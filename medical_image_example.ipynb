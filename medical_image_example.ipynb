{
 "cells": [
  {
   "cell_type": "code",
   "execution_count": 1,
   "id": "8ec4b9fd-76a5-462e-ad51-5dfef7228631",
   "metadata": {
    "tags": []
   },
   "outputs": [
    {
     "name": "stdout",
     "output_type": "stream",
     "text": [
      "Warning: Paddle should be installed before using some Interpreters.\n"
     ]
    },
    {
     "name": "stderr",
     "output_type": "stream",
     "text": [
      "/opt/conda/envs/pt2/lib/python3.9/site-packages/tqdm/auto.py:21: TqdmWarning: IProgress not found. Please update jupyter and ipywidgets. See https://ipywidgets.readthedocs.io/en/stable/user_install.html\n",
      "  from .autonotebook import tqdm as notebook_tqdm\n"
     ]
    }
   ],
   "source": [
    "from hf_support import SmoothGradInterpreter\n",
    "from transformers import ViTForImageClassification, ViTImageProcessor\n",
    "\n",
    "# https://huggingface.co/nickmuchi/vit-finetuned-chest-xray-pneumonia\n",
    "model = ViTForImageClassification.from_pretrained(\"vit-finetuned-chest-xray-pneumonia/\")\n",
    "processor = ViTImageProcessor.from_pretrained(\"vit-finetuned-chest-xray-pneumonia/\")"
   ]
  },
  {
   "cell_type": "code",
   "execution_count": 2,
   "id": "c8f6f8df-0043-4bca-84bc-7b6639b71128",
   "metadata": {},
   "outputs": [
    {
     "name": "stderr",
     "output_type": "stream",
     "text": [
      "100%|██████████| 50/50 [00:01<00:00, 35.80it/s]\n",
      "100%|██████████| 50/50 [00:01<00:00, 34.35it/s]\n",
      "100%|██████████| 50/50 [00:01<00:00, 32.63it/s]\n",
      "100%|██████████| 50/50 [00:01<00:00, 36.30it/s]\n",
      "100%|██████████| 50/50 [00:01<00:00, 38.43it/s]\n",
      "100%|██████████| 50/50 [00:01<00:00, 35.45it/s]\n",
      "100%|██████████| 50/50 [00:01<00:00, 36.72it/s]\n",
      "100%|██████████| 50/50 [00:01<00:00, 36.04it/s]\n",
      "100%|██████████| 50/50 [00:01<00:00, 34.23it/s]\n",
      "100%|██████████| 50/50 [00:01<00:00, 32.50it/s]\n",
      "100%|██████████| 50/50 [00:01<00:00, 32.14it/s]\n",
      "100%|██████████| 50/50 [00:01<00:00, 34.65it/s]\n",
      "100%|██████████| 50/50 [00:01<00:00, 38.24it/s]\n",
      "100%|██████████| 50/50 [00:01<00:00, 37.88it/s]\n",
      "100%|██████████| 50/50 [00:01<00:00, 37.90it/s]\n",
      "100%|██████████| 50/50 [00:01<00:00, 38.78it/s]\n"
     ]
    }
   ],
   "source": [
    "from glob import glob\n",
    "algo = SmoothGradInterpreter(model)\n",
    "list_img_path = glob(\"./chest_xray_val-test/val/NORMAL/*.jpeg\") + glob(\"./chest_xray_val-test/val/PNEUMONIA/*.jpeg\")\n",
    "\n",
    "sg_raw_results = {}\n",
    "\n",
    "for path in list_img_path:\n",
    "    exp = algo.interpret(path, processor, visual=False)\n",
    "    sg_raw_results[path] = exp"
   ]
  },
  {
   "cell_type": "code",
   "execution_count": 3,
   "id": "bc834226-3f50-46ad-a432-5357954dea3e",
   "metadata": {},
   "outputs": [
    {
     "name": "stderr",
     "output_type": "stream",
     "text": [
      "100%|██████████| 50/50 [00:00<00:00, 50.12it/s]\n",
      "100%|██████████| 50/50 [00:01<00:00, 48.63it/s]\n",
      "100%|██████████| 50/50 [00:01<00:00, 47.57it/s]\n",
      "100%|██████████| 50/50 [00:01<00:00, 49.52it/s]\n",
      "100%|██████████| 50/50 [00:01<00:00, 48.61it/s]\n",
      "100%|██████████| 50/50 [00:00<00:00, 50.06it/s]\n",
      "100%|██████████| 50/50 [00:01<00:00, 49.17it/s]\n",
      "100%|██████████| 50/50 [00:01<00:00, 49.92it/s]\n",
      "100%|██████████| 50/50 [00:01<00:00, 49.82it/s]\n",
      "100%|██████████| 50/50 [00:01<00:00, 48.83it/s]\n",
      "100%|██████████| 50/50 [00:00<00:00, 50.01it/s]\n",
      "100%|██████████| 50/50 [00:01<00:00, 48.76it/s]\n",
      "100%|██████████| 50/50 [00:01<00:00, 49.52it/s]\n",
      "100%|██████████| 50/50 [00:01<00:00, 49.36it/s]\n",
      "100%|██████████| 50/50 [00:01<00:00, 49.64it/s]\n",
      "100%|██████████| 50/50 [00:00<00:00, 50.07it/s]\n"
     ]
    }
   ],
   "source": [
    "from hf_support import IntGradInterpreter\n",
    "from glob import glob\n",
    "algo = IntGradInterpreter(model)\n",
    "list_img_path = glob(\"./chest_xray_val-test/val/NORMAL/*.jpeg\") + glob(\"./chest_xray_val-test/val/PNEUMONIA/*.jpeg\")\n",
    "\n",
    "ig_raw_results = {}\n",
    "\n",
    "for path in list_img_path:\n",
    "    exp = algo.interpret(path, processor, visual=False)\n",
    "    ig_raw_results[path] = exp"
   ]
  },
  {
   "cell_type": "code",
   "execution_count": 4,
   "id": "c0950ec9-4bc0-4318-a4ac-a44c760cc3d5",
   "metadata": {},
   "outputs": [],
   "source": [
    "from hf_support import Perturbation"
   ]
  },
  {
   "cell_type": "code",
   "execution_count": 6,
   "id": "c0c48731-e420-45d4-8eb6-63ef89517843",
   "metadata": {},
   "outputs": [],
   "source": [
    "perturbation = Perturbation(model)\n",
    "\n",
    "eval_sg_raw_results = {}\n",
    "for path in list_img_path:\n",
    "    exp = sg_raw_results[path][0].mean((0))\n",
    "    eval_result = perturbation.evaluate(path, exp, limit_number_generated_samples=100)\n",
    "    eval_sg_raw_results[path] = eval_result"
   ]
  },
  {
   "cell_type": "code",
   "execution_count": 8,
   "id": "66fb5eba-d09f-494a-a526-d2a7b40ad438",
   "metadata": {
    "tags": []
   },
   "outputs": [],
   "source": [
    "perturbation = Perturbation(model)\n",
    "\n",
    "eval_ig_raw_results = {}\n",
    "for path in list_img_path:\n",
    "    exp = ig_raw_results[path][0].mean((0))\n",
    "    eval_result = perturbation.evaluate(path, exp, limit_number_generated_samples=100)\n",
    "    eval_ig_raw_results[path] = eval_result"
   ]
  },
  {
   "cell_type": "code",
   "execution_count": 16,
   "id": "f974bbd2-4b7d-4ac0-8b5c-3905db182424",
   "metadata": {},
   "outputs": [],
   "source": [
    "from tqdm import tqdm\n",
    "\n",
    "# MoRF_probas in Perturbation is not correct. It requires to convert to the right one.\n",
    "def get_eval_results(raw_results, list_paths):\n",
    "    setting_mscore = 0.0\n",
    "    setting_lscore = 0.0\n",
    "    abpc_score = 0.0\n",
    "    a = raw_results[path]\n",
    "    for img_path in list_paths:\n",
    "        b = raw_results[img_path]\n",
    "        setting_mscore += (b['MoRF_probas'][0] - b['MoRF_probas']).mean()\n",
    "        setting_lscore += (b['LeRF_probas'][0] - b['LeRF_probas']).mean()\n",
    "        abpc_score += (b['LeRF_probas'] - b['MoRF_probas']).mean()\n",
    "\n",
    "    MoRF_score = setting_mscore / len(list_paths)\n",
    "    LeRF_score = setting_lscore / len(list_paths)\n",
    "    aubpc_score = abpc_score / len(list_paths)\n",
    "    return MoRF_score, aubpc_score"
   ]
  },
  {
   "cell_type": "code",
   "execution_count": 17,
   "id": "c0b36420-9ccb-4d81-b540-f63179de3db1",
   "metadata": {},
   "outputs": [
    {
     "data": {
      "text/plain": [
       "(0.3663406816194765, 0.15824285882990807)"
      ]
     },
     "execution_count": 17,
     "metadata": {},
     "output_type": "execute_result"
    }
   ],
   "source": [
    "get_eval_results(eval_sg_raw_results, list_img_path)"
   ]
  },
  {
   "cell_type": "code",
   "execution_count": 18,
   "id": "73678842-0428-44c1-b85e-cc55f168e831",
   "metadata": {},
   "outputs": [
    {
     "data": {
      "text/plain": [
       "(0.5070528648793697, 0.42603587871417403)"
      ]
     },
     "execution_count": 18,
     "metadata": {},
     "output_type": "execute_result"
    }
   ],
   "source": [
    "get_eval_results(eval_ig_raw_results, list_img_path)"
   ]
  },
  {
   "cell_type": "code",
   "execution_count": null,
   "id": "3250b239-6eef-4d4f-abb3-52daa6df168f",
   "metadata": {},
   "outputs": [],
   "source": []
  }
 ],
 "metadata": {
  "kernelspec": {
   "display_name": "pt2",
   "language": "python",
   "name": "pt2"
  },
  "language_info": {
   "codemirror_mode": {
    "name": "ipython",
    "version": 3
   },
   "file_extension": ".py",
   "mimetype": "text/x-python",
   "name": "python",
   "nbconvert_exporter": "python",
   "pygments_lexer": "ipython3",
   "version": "3.9.16"
  }
 },
 "nbformat": 4,
 "nbformat_minor": 5
}
